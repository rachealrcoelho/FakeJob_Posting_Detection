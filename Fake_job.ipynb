{
 "cells": [
  {
   "cell_type": "markdown",
   "metadata": {
    "collapsed": true
   },
   "source": [
    "# Fake Job Posting Detection\n",
    "***"
   ]
  },
  {
   "cell_type": "markdown",
   "metadata": {},
   "source": [
    "## Table of the content \n",
    "- [Data Description](#a)\n",
    "- [Goal and objectives](#b)\n",
    "- [Data pre-processing](#c)\n",
    "  - [Missing Values](#c1)\n",
    "- [Data Exploration & Visualisation ](#d)\n",
    "- [Predictive Modelling](#e)\n",
    "  - [Overview of the methodology](#e1)\n",
    "  - [Feature Selection](#e2)\n",
    "  - [Pre-processing](#e3)\n",
    "  - [Classification Algorithm](#e4)\n",
    "    - [Logistic Regression](#e41)\n",
    "    - [Random Forest](#e42)\n",
    "    - [KNN](#e43)\n",
    "    - [Decision Tree](#e44)\n",
    "  - [Performance comparison](#e5)\n",
    "- [Limitation and solution](#f)\n",
    "- [Summary & Conclusions](#g)"
   ]
  },
  {
   "cell_type": "markdown",
   "metadata": {},
   "source": [
    "# Data Description <a name=\"a\"></a>"
   ]
  },
  {
   "cell_type": "markdown",
   "metadata": {},
   "source": [
    "The Employment Scam Aegean Dataset (EMSCAD) or also known well as *Fake Job Posting* dataset is used in this project to predict the fraudulent of the job advertisments that published between the year 2012 to 2014. EMSCAD dataset is accessible to public and it consist of 17,880 job descriptions that intended to enlighten the Employment Scam issues to research community. This dataset contains 18 columns and 17,880 rows. To be more specific, the dataset has 17,014 legitimate and 866 fake job posts. The dataset is downloaded from <a href=\"http://emscad.samos.aegean.gr/\">Employment Scam Aegean Dataset</a>. The target feature in this project is *fraudulent* column since the fraudulent of job advertisements going to be predicted. Since the target feature is a categorical variable, classification under supervised machine learning will be used to perform the prediction. "
   ]
  },
  {
   "cell_type": "code",
   "execution_count": 1,
   "metadata": {},
   "outputs": [
    {
     "data": {
      "text/html": [
       "<div>\n",
       "<style scoped>\n",
       "    .dataframe tbody tr th:only-of-type {\n",
       "        vertical-align: middle;\n",
       "    }\n",
       "\n",
       "    .dataframe tbody tr th {\n",
       "        vertical-align: top;\n",
       "    }\n",
       "\n",
       "    .dataframe thead th {\n",
       "        text-align: right;\n",
       "    }\n",
       "</style>\n",
       "<table border=\"1\" class=\"dataframe\">\n",
       "  <thead>\n",
       "    <tr style=\"text-align: right;\">\n",
       "      <th></th>\n",
       "      <th>title</th>\n",
       "      <th>location</th>\n",
       "      <th>department</th>\n",
       "      <th>salary_range</th>\n",
       "      <th>company_profile</th>\n",
       "      <th>description</th>\n",
       "      <th>requirements</th>\n",
       "      <th>benefits</th>\n",
       "      <th>telecommuting</th>\n",
       "      <th>has_company_logo</th>\n",
       "      <th>has_questions</th>\n",
       "      <th>employment_type</th>\n",
       "      <th>required_experience</th>\n",
       "      <th>required_education</th>\n",
       "      <th>industry</th>\n",
       "      <th>function</th>\n",
       "      <th>fraudulent</th>\n",
       "      <th>in_balanced_dataset</th>\n",
       "    </tr>\n",
       "  </thead>\n",
       "  <tbody>\n",
       "    <tr>\n",
       "      <th>0</th>\n",
       "      <td>Marketing Intern</td>\n",
       "      <td>US, NY, New York</td>\n",
       "      <td>Marketing</td>\n",
       "      <td>NaN</td>\n",
       "      <td>&lt;h3&gt;We're Food52, and we've created a groundbr...</td>\n",
       "      <td>&lt;p&gt;Food52, a fast-growing, James Beard Award-w...</td>\n",
       "      <td>&lt;ul&gt;\\r\\n&lt;li&gt;Experience with content management...</td>\n",
       "      <td>NaN</td>\n",
       "      <td>f</td>\n",
       "      <td>t</td>\n",
       "      <td>f</td>\n",
       "      <td>Other</td>\n",
       "      <td>Internship</td>\n",
       "      <td>NaN</td>\n",
       "      <td>NaN</td>\n",
       "      <td>Marketing</td>\n",
       "      <td>f</td>\n",
       "      <td>f</td>\n",
       "    </tr>\n",
       "    <tr>\n",
       "      <th>1</th>\n",
       "      <td>Customer Service - Cloud Video Production</td>\n",
       "      <td>NZ, , Auckland</td>\n",
       "      <td>Success</td>\n",
       "      <td>NaN</td>\n",
       "      <td>&lt;h3&gt;90 Seconds, the worlds Cloud Video Product...</td>\n",
       "      <td>&lt;p&gt;Organised - Focused - Vibrant - Awesome!&lt;br...</td>\n",
       "      <td>&lt;p&gt;&lt;b&gt;What we expect from you:&lt;/b&gt;&lt;/p&gt;\\r\\n&lt;p&gt;Y...</td>\n",
       "      <td>&lt;h3&gt;&lt;b&gt;What you will get from us&lt;/b&gt;&lt;/h3&gt;\\r\\n&lt;...</td>\n",
       "      <td>f</td>\n",
       "      <td>t</td>\n",
       "      <td>f</td>\n",
       "      <td>Full-time</td>\n",
       "      <td>Not Applicable</td>\n",
       "      <td>NaN</td>\n",
       "      <td>Marketing and Advertising</td>\n",
       "      <td>Customer Service</td>\n",
       "      <td>f</td>\n",
       "      <td>f</td>\n",
       "    </tr>\n",
       "    <tr>\n",
       "      <th>2</th>\n",
       "      <td>Commissioning Machinery Assistant (CMA)</td>\n",
       "      <td>US, IA, Wever</td>\n",
       "      <td>NaN</td>\n",
       "      <td>NaN</td>\n",
       "      <td>&lt;h3&gt;&lt;/h3&gt;\\r\\n&lt;p&gt;Valor Services provides Workfo...</td>\n",
       "      <td>&lt;p&gt;Our client, located in Houston, is actively...</td>\n",
       "      <td>&lt;ul&gt;\\r\\n&lt;li&gt;Implement pre-commissioning and co...</td>\n",
       "      <td>NaN</td>\n",
       "      <td>f</td>\n",
       "      <td>t</td>\n",
       "      <td>f</td>\n",
       "      <td>NaN</td>\n",
       "      <td>NaN</td>\n",
       "      <td>NaN</td>\n",
       "      <td>NaN</td>\n",
       "      <td>NaN</td>\n",
       "      <td>f</td>\n",
       "      <td>f</td>\n",
       "    </tr>\n",
       "    <tr>\n",
       "      <th>3</th>\n",
       "      <td>Account Executive - Washington DC</td>\n",
       "      <td>US, DC, Washington</td>\n",
       "      <td>Sales</td>\n",
       "      <td>NaN</td>\n",
       "      <td>&lt;p&gt;Our passion for improving quality of life t...</td>\n",
       "      <td>&lt;p&gt;&lt;b&gt;THE COMPANY: ESRI – Environmental System...</td>\n",
       "      <td>&lt;ul&gt;\\r\\n&lt;li&gt;\\r\\n&lt;b&gt;EDUCATION: &lt;/b&gt;Bachelor’s o...</td>\n",
       "      <td>&lt;p&gt;Our culture is anything but corporate—we ha...</td>\n",
       "      <td>f</td>\n",
       "      <td>t</td>\n",
       "      <td>f</td>\n",
       "      <td>Full-time</td>\n",
       "      <td>Mid-Senior level</td>\n",
       "      <td>Bachelor's Degree</td>\n",
       "      <td>Computer Software</td>\n",
       "      <td>Sales</td>\n",
       "      <td>f</td>\n",
       "      <td>f</td>\n",
       "    </tr>\n",
       "    <tr>\n",
       "      <th>4</th>\n",
       "      <td>Bill Review Manager</td>\n",
       "      <td>US, FL, Fort Worth</td>\n",
       "      <td>NaN</td>\n",
       "      <td>NaN</td>\n",
       "      <td>&lt;p&gt;SpotSource Solutions LLC is a Global Human ...</td>\n",
       "      <td>&lt;p&gt;&lt;b&gt;JOB TITLE:&lt;/b&gt; Itemization Review Manage...</td>\n",
       "      <td>&lt;p&gt;&lt;b&gt;QUALIFICATIONS:&lt;/b&gt;&lt;/p&gt;\\r\\n&lt;ul&gt;\\r\\n&lt;li&gt;R...</td>\n",
       "      <td>&lt;p&gt;Full Benefits Offered&lt;/p&gt;</td>\n",
       "      <td>f</td>\n",
       "      <td>t</td>\n",
       "      <td>t</td>\n",
       "      <td>Full-time</td>\n",
       "      <td>Mid-Senior level</td>\n",
       "      <td>Bachelor's Degree</td>\n",
       "      <td>Hospital &amp; Health Care</td>\n",
       "      <td>Health Care Provider</td>\n",
       "      <td>f</td>\n",
       "      <td>f</td>\n",
       "    </tr>\n",
       "  </tbody>\n",
       "</table>\n",
       "</div>"
      ],
      "text/plain": [
       "                                       title            location department  \\\n",
       "0                           Marketing Intern    US, NY, New York  Marketing   \n",
       "1  Customer Service - Cloud Video Production      NZ, , Auckland    Success   \n",
       "2    Commissioning Machinery Assistant (CMA)       US, IA, Wever        NaN   \n",
       "3          Account Executive - Washington DC  US, DC, Washington      Sales   \n",
       "4                        Bill Review Manager  US, FL, Fort Worth        NaN   \n",
       "\n",
       "  salary_range                                    company_profile  \\\n",
       "0          NaN  <h3>We're Food52, and we've created a groundbr...   \n",
       "1          NaN  <h3>90 Seconds, the worlds Cloud Video Product...   \n",
       "2          NaN  <h3></h3>\\r\\n<p>Valor Services provides Workfo...   \n",
       "3          NaN  <p>Our passion for improving quality of life t...   \n",
       "4          NaN  <p>SpotSource Solutions LLC is a Global Human ...   \n",
       "\n",
       "                                         description  \\\n",
       "0  <p>Food52, a fast-growing, James Beard Award-w...   \n",
       "1  <p>Organised - Focused - Vibrant - Awesome!<br...   \n",
       "2  <p>Our client, located in Houston, is actively...   \n",
       "3  <p><b>THE COMPANY: ESRI – Environmental System...   \n",
       "4  <p><b>JOB TITLE:</b> Itemization Review Manage...   \n",
       "\n",
       "                                        requirements  \\\n",
       "0  <ul>\\r\\n<li>Experience with content management...   \n",
       "1  <p><b>What we expect from you:</b></p>\\r\\n<p>Y...   \n",
       "2  <ul>\\r\\n<li>Implement pre-commissioning and co...   \n",
       "3  <ul>\\r\\n<li>\\r\\n<b>EDUCATION: </b>Bachelor’s o...   \n",
       "4  <p><b>QUALIFICATIONS:</b></p>\\r\\n<ul>\\r\\n<li>R...   \n",
       "\n",
       "                                            benefits telecommuting  \\\n",
       "0                                                NaN             f   \n",
       "1  <h3><b>What you will get from us</b></h3>\\r\\n<...             f   \n",
       "2                                                NaN             f   \n",
       "3  <p>Our culture is anything but corporate—we ha...             f   \n",
       "4                       <p>Full Benefits Offered</p>             f   \n",
       "\n",
       "  has_company_logo has_questions employment_type required_experience  \\\n",
       "0                t             f           Other          Internship   \n",
       "1                t             f       Full-time      Not Applicable   \n",
       "2                t             f             NaN                 NaN   \n",
       "3                t             f       Full-time    Mid-Senior level   \n",
       "4                t             t       Full-time    Mid-Senior level   \n",
       "\n",
       "  required_education                   industry              function  \\\n",
       "0                NaN                        NaN             Marketing   \n",
       "1                NaN  Marketing and Advertising      Customer Service   \n",
       "2                NaN                        NaN                   NaN   \n",
       "3  Bachelor's Degree          Computer Software                 Sales   \n",
       "4  Bachelor's Degree     Hospital & Health Care  Health Care Provider   \n",
       "\n",
       "  fraudulent in_balanced_dataset  \n",
       "0          f                   f  \n",
       "1          f                   f  \n",
       "2          f                   f  \n",
       "3          f                   f  \n",
       "4          f                   f  "
      ]
     },
     "execution_count": 1,
     "metadata": {},
     "output_type": "execute_result"
    }
   ],
   "source": [
    "import pandas as pd \n",
    "import numpy as np\n",
    "import nltk\n",
    "from nltk.corpus import stopwords\n",
    "from nltk.tokenize import word_tokenize\n",
    "import warnings\n",
    "warnings.filterwarnings('ignore')\n",
    "\n",
    "#importing/reading the data \n",
    "df = pd.read_csv('S3794334_Data.csv', sep = ',')\n",
    "\n",
    "# View the dataset\n",
    "df.head()"
   ]
  },
  {
   "cell_type": "markdown",
   "metadata": {},
   "source": [
    "The shape of the dataset is checked to make sure the data has been downloaded correctly.Also, the features type is checked in order to have a better understanding about the structure and format of the dataset.  "
   ]
  },
  {
   "cell_type": "code",
   "execution_count": 2,
   "metadata": {},
   "outputs": [
    {
     "data": {
      "text/plain": [
       "(17880, 18)"
      ]
     },
     "execution_count": 2,
     "metadata": {},
     "output_type": "execute_result"
    }
   ],
   "source": [
    "#checking the shape of the dataset\n",
    "df.shape"
   ]
  },
  {
   "cell_type": "code",
   "execution_count": 3,
   "metadata": {},
   "outputs": [
    {
     "data": {
      "text/plain": [
       "title                  object\n",
       "location               object\n",
       "department             object\n",
       "salary_range           object\n",
       "company_profile        object\n",
       "description            object\n",
       "requirements           object\n",
       "benefits               object\n",
       "telecommuting          object\n",
       "has_company_logo       object\n",
       "has_questions          object\n",
       "employment_type        object\n",
       "required_experience    object\n",
       "required_education     object\n",
       "industry               object\n",
       "function               object\n",
       "fraudulent             object\n",
       "in_balanced_dataset    object\n",
       "dtype: object"
      ]
     },
     "execution_count": 3,
     "metadata": {},
     "output_type": "execute_result"
    }
   ],
   "source": [
    "#checking the type of the attributes\n",
    "df.dtypes"
   ]
  },
  {
   "cell_type": "markdown",
   "metadata": {},
   "source": [
    "# Goal and objectives <a name=\"b\"></a>"
   ]
  },
  {
   "cell_type": "markdown",
   "metadata": {},
   "source": [
    "## Goal\n",
    "The goal of this project is to predict the fraudulent of the job advertisments by performing a comparative analysis on four different classification models.  \n",
    "## Objectives\n",
    "- To perform data analysis to acquire fascinating insights from the dataset\n",
    "- To build a classification model which will able to detect fraud job posts effectively with high accurancy. \n",
    "- To find out features with words and phrases in the the job advertisement which are deceitful in nature\n",
    "- To identify relevent features with the help of feature selection techniques in order to minimize dimensionality "
   ]
  },
  {
   "cell_type": "markdown",
   "metadata": {},
   "source": [
    "# Data Preprocessing <a name=\"c\"></a>"
   ]
  },
  {
   "cell_type": "markdown",
   "metadata": {},
   "source": [
    "Unnecessary columns such as *telecommuting* and many more will be dropped from the table"
   ]
  },
  {
   "cell_type": "code",
   "execution_count": 4,
   "metadata": {},
   "outputs": [],
   "source": [
    "# drop  telecommuting,in_balanced_dataset\n",
    "df=df.drop(['telecommuting','in_balanced_dataset'], axis=1)"
   ]
  },
  {
   "cell_type": "markdown",
   "metadata": {},
   "source": [
    "Column *has_company_logo*, *has_questions* and *fraudulent* have binary values, t (true) and f (false). These columns will be converted to numeric. For *fraudulent* column, if the job is fake 1 will be assigned and if it is a real job 0 will be assigned. For the other two columns, true is assigned to 0 and false is assigned to 1. "
   ]
  },
  {
   "cell_type": "code",
   "execution_count": 5,
   "metadata": {},
   "outputs": [],
   "source": [
    "# Encode columns f as 0 and t as 1\n",
    "df['has_company_logo'] = df['has_company_logo'].map({'t': 0, 'f':1})\n",
    "df['fraudulent'] = df['fraudulent'].map({'t': 1, 'f':0})\n",
    "df['has_questions'] = df['has_questions'].map({'t': 0, 'f':1})"
   ]
  },
  {
   "cell_type": "markdown",
   "metadata": {},
   "source": [
    "## Missing Values <a name=\"c1\"></a>"
   ]
  },
  {
   "cell_type": "markdown",
   "metadata": {},
   "source": [
    "Calculating number of the missing values in each columns"
   ]
  },
  {
   "cell_type": "code",
   "execution_count": 6,
   "metadata": {},
   "outputs": [
    {
     "data": {
      "text/plain": [
       "title                      0\n",
       "location                 346\n",
       "department             11547\n",
       "salary_range           15012\n",
       "company_profile         3308\n",
       "description                0\n",
       "requirements            2689\n",
       "benefits                7196\n",
       "has_company_logo           0\n",
       "has_questions              0\n",
       "employment_type         3471\n",
       "required_experience     7050\n",
       "required_education      8105\n",
       "industry                4903\n",
       "function                6455\n",
       "fraudulent                 0\n",
       "dtype: int64"
      ]
     },
     "execution_count": 6,
     "metadata": {},
     "output_type": "execute_result"
    }
   ],
   "source": [
    "df.isnull().sum()"
   ]
  },
  {
   "cell_type": "markdown",
   "metadata": {},
   "source": [
    "The other features that contain the missing values are categorical features. Replacing these features with their mode will change the nature of the dataset. Hence, the missing values in these categorical features will be replaced with *none*. "
   ]
  },
  {
   "cell_type": "code",
   "execution_count": 7,
   "metadata": {},
   "outputs": [],
   "source": [
    "# missing values in Location will be assigned none\n",
    "df['location'] = df['location'].fillna('none')\n",
    "\n",
    "# missing values in Department will be assigned none\n",
    "df['department'] = df['department'].fillna('none')\n",
    "\n",
    "# missing values in Company profile will be assigned none\n",
    "df['company_profile'] = df['company_profile'].fillna('none')\n",
    "\n",
    "# missing values in Description will be assigned none\n",
    "df['description'] = df['description'].fillna('none')\n",
    "\n",
    "# missing values in Requirements will be assigned none\n",
    "df['requirements'] = df['requirements'].fillna('none')\n",
    "\n",
    "# missing values in Benefits will be assigned none\n",
    "df['benefits'] = df['benefits'].fillna('none')\n",
    "\n",
    "# missing values in Employment type will be assigned none\n",
    "df['employment_type'] = df['employment_type'].fillna('none')\n",
    "\n",
    "# missing values in Required experience will be assigned none\n",
    "df['required_experience'] = df['required_experience'].fillna('none')\n",
    "\n",
    "# missing values in Required education will be assigned none\n",
    "df['required_education'] = df['required_education'].fillna('none') \n",
    "\n",
    "# missing values in Industry will be assigned none\n",
    "df['industry'] = df['industry'].fillna('none')\n",
    "\n",
    "# missing values in Function will be assigned none\n",
    "df['function'] = df['function'].fillna('none') \n",
    "\n",
    "# missing values in Industry will be assigned none\n",
    "df['salary_range'] = df['salary_range'].fillna('none')\n",
    "\n",
    "# missing values in Function will be assigned none\n",
    "df['has_questions'] = df['has_questions'].fillna('none') \n",
    "\n",
    "# replacing empty space in Employment type to none\n",
    "df['employment_type'] = df['employment_type'].mask(lambda x : x =='', other = 'none') "
   ]
  },
  {
   "cell_type": "code",
   "execution_count": 8,
   "metadata": {},
   "outputs": [
    {
     "data": {
      "text/plain": [
       "title                  0\n",
       "location               0\n",
       "department             0\n",
       "salary_range           0\n",
       "company_profile        0\n",
       "description            0\n",
       "requirements           0\n",
       "benefits               0\n",
       "has_company_logo       0\n",
       "has_questions          0\n",
       "employment_type        0\n",
       "required_experience    0\n",
       "required_education     0\n",
       "industry               0\n",
       "function               0\n",
       "fraudulent             0\n",
       "dtype: int64"
      ]
     },
     "execution_count": 8,
     "metadata": {},
     "output_type": "execute_result"
    }
   ],
   "source": [
    "#checking the dataset after replacing the null values\n",
    "df.isnull().sum()"
   ]
  },
  {
   "cell_type": "markdown",
   "metadata": {},
   "source": [
    "*company_profile*, *description* and *requirements* are the columns that contain html tags which need to be removed."
   ]
  },
  {
   "cell_type": "code",
   "execution_count": 9,
   "metadata": {},
   "outputs": [],
   "source": [
    "#removing the HTML tags\n",
    "df['company_profile'] = df['company_profile'].str.replace(r'<[^>]*>', '')\n",
    "df['description'] = df['description'].str.replace(r'<[^>]*>', '')\n",
    "df['requirements'] = df['requirements'].str.replace(r'<[^>]*>', '')\n",
    "df['benefits'] = df['benefits'].str.replace(r'<[^>]*>', '')"
   ]
  },
  {
   "cell_type": "markdown",
   "metadata": {},
   "source": [
    "This dataset has many non-alphanumeric characters and white spaces which will be removed. "
   ]
  },
  {
   "cell_type": "code",
   "execution_count": 10,
   "metadata": {},
   "outputs": [],
   "source": [
    "# Removing non word characters and trailing white space \n",
    "for col in df.columns:\n",
    "    df[col] = df[col].apply(str).str.replace(r'\\W', ' ').apply(str).str.replace(r'\\s$','')"
   ]
  },
  {
   "cell_type": "markdown",
   "metadata": {},
   "source": [
    "Stemming is used to reduce the related words and removal of the stop words is also carried out to diminish the commonly used English words. Then, the text in the dataset has been changed to lowercase. "
   ]
  },
  {
   "cell_type": "code",
   "execution_count": 11,
   "metadata": {},
   "outputs": [],
   "source": [
    "#to download the package\n",
    "#import nltk\n",
    "#nltk.download();\n",
    "#nltk.download('stopwords');\n",
    "#--------------(or)\n",
    "#import nltk\n",
    "#nltk.download()"
   ]
  },
  {
   "cell_type": "code",
   "execution_count": 12,
   "metadata": {},
   "outputs": [],
   "source": [
    "from nltk.corpus import stopwords\n",
    "from nltk.stem import SnowballStemmer\n",
    "\n",
    "stemmer = SnowballStemmer('english')\n",
    "stop_word = stopwords.words('english')\n",
    "\n",
    "text= ['title', 'location', 'department', 'company_profile', 'description', 'requirements','benefits','employment_type',\n",
    "                'required_experience','required_education','industry','function']\n",
    "\n",
    "def clean_series(col):\n",
    "    df[col] = df[col].apply(lambda x: \" \".join([i for i in x.lower().split() if i not in stop_word]))\n",
    "\n",
    "for col in text:\n",
    "    clean_series(col)"
   ]
  },
  {
   "cell_type": "code",
   "execution_count": 13,
   "metadata": {},
   "outputs": [
    {
     "data": {
      "text/html": [
       "<div>\n",
       "<style scoped>\n",
       "    .dataframe tbody tr th:only-of-type {\n",
       "        vertical-align: middle;\n",
       "    }\n",
       "\n",
       "    .dataframe tbody tr th {\n",
       "        vertical-align: top;\n",
       "    }\n",
       "\n",
       "    .dataframe thead th {\n",
       "        text-align: right;\n",
       "    }\n",
       "</style>\n",
       "<table border=\"1\" class=\"dataframe\">\n",
       "  <thead>\n",
       "    <tr style=\"text-align: right;\">\n",
       "      <th></th>\n",
       "      <th>title</th>\n",
       "      <th>location</th>\n",
       "      <th>department</th>\n",
       "      <th>salary_range</th>\n",
       "      <th>company_profile</th>\n",
       "      <th>description</th>\n",
       "      <th>requirements</th>\n",
       "      <th>benefits</th>\n",
       "      <th>has_company_logo</th>\n",
       "      <th>has_questions</th>\n",
       "      <th>employment_type</th>\n",
       "      <th>required_experience</th>\n",
       "      <th>required_education</th>\n",
       "      <th>industry</th>\n",
       "      <th>function</th>\n",
       "      <th>fraudulent</th>\n",
       "    </tr>\n",
       "  </thead>\n",
       "  <tbody>\n",
       "    <tr>\n",
       "      <th>0</th>\n",
       "      <td>marketing intern</td>\n",
       "      <td>us ny new york</td>\n",
       "      <td>marketing</td>\n",
       "      <td>none</td>\n",
       "      <td>food52 created groundbreaking award winning co...</td>\n",
       "      <td>food52 fast growing james beard award winning ...</td>\n",
       "      <td>experience content management systems major pl...</td>\n",
       "      <td>none</td>\n",
       "      <td>0</td>\n",
       "      <td>1</td>\n",
       "      <td></td>\n",
       "      <td>internship</td>\n",
       "      <td>none</td>\n",
       "      <td>none</td>\n",
       "      <td>marketing</td>\n",
       "      <td>0</td>\n",
       "    </tr>\n",
       "    <tr>\n",
       "      <th>1</th>\n",
       "      <td>customer service cloud video production</td>\n",
       "      <td>nz auckland</td>\n",
       "      <td>success</td>\n",
       "      <td>none</td>\n",
       "      <td>90 seconds worlds cloud video production servi...</td>\n",
       "      <td>organised focused vibrant awesome passion cust...</td>\n",
       "      <td>expect key responsibility communicate client 9...</td>\n",
       "      <td>get us part 90 seconds team gain experience wo...</td>\n",
       "      <td>0</td>\n",
       "      <td>1</td>\n",
       "      <td>full time</td>\n",
       "      <td>applicable</td>\n",
       "      <td>none</td>\n",
       "      <td>marketing advertising</td>\n",
       "      <td>customer service</td>\n",
       "      <td>0</td>\n",
       "    </tr>\n",
       "    <tr>\n",
       "      <th>2</th>\n",
       "      <td>commissioning machinery assistant cma</td>\n",
       "      <td>us ia wever</td>\n",
       "      <td>none</td>\n",
       "      <td>none</td>\n",
       "      <td>valor services provides workforce solutions me...</td>\n",
       "      <td>client located houston actively seeking experi...</td>\n",
       "      <td>implement pre commissioning commissioning proc...</td>\n",
       "      <td>none</td>\n",
       "      <td>0</td>\n",
       "      <td>1</td>\n",
       "      <td>none</td>\n",
       "      <td>none</td>\n",
       "      <td>none</td>\n",
       "      <td>none</td>\n",
       "      <td>none</td>\n",
       "      <td>0</td>\n",
       "    </tr>\n",
       "    <tr>\n",
       "      <th>3</th>\n",
       "      <td>account executive washington dc</td>\n",
       "      <td>us dc washington</td>\n",
       "      <td>sales</td>\n",
       "      <td>none</td>\n",
       "      <td>passion improving quality life geography heart...</td>\n",
       "      <td>company esri environmental systems research in...</td>\n",
       "      <td>education bachelor master gis business adminis...</td>\n",
       "      <td>culture anything corporate collaborative creat...</td>\n",
       "      <td>0</td>\n",
       "      <td>1</td>\n",
       "      <td>full time</td>\n",
       "      <td>mid senior level</td>\n",
       "      <td>bachelor degree</td>\n",
       "      <td>computer software</td>\n",
       "      <td>sales</td>\n",
       "      <td>0</td>\n",
       "    </tr>\n",
       "    <tr>\n",
       "      <th>4</th>\n",
       "      <td>bill review manager</td>\n",
       "      <td>us fl fort worth</td>\n",
       "      <td>none</td>\n",
       "      <td>none</td>\n",
       "      <td>spotsource solutions llc global human capital ...</td>\n",
       "      <td>job title itemization review manager location ...</td>\n",
       "      <td>qualifications rn license state texas diploma ...</td>\n",
       "      <td>full benefits offered</td>\n",
       "      <td>0</td>\n",
       "      <td>0</td>\n",
       "      <td>full time</td>\n",
       "      <td>mid senior level</td>\n",
       "      <td>bachelor degree</td>\n",
       "      <td>hospital health care</td>\n",
       "      <td>health care provider</td>\n",
       "      <td>0</td>\n",
       "    </tr>\n",
       "  </tbody>\n",
       "</table>\n",
       "</div>"
      ],
      "text/plain": [
       "                                     title          location department  \\\n",
       "0                         marketing intern    us ny new york  marketing   \n",
       "1  customer service cloud video production       nz auckland    success   \n",
       "2    commissioning machinery assistant cma       us ia wever       none   \n",
       "3          account executive washington dc  us dc washington      sales   \n",
       "4                      bill review manager  us fl fort worth       none   \n",
       "\n",
       "  salary_range                                    company_profile  \\\n",
       "0         none  food52 created groundbreaking award winning co...   \n",
       "1         none  90 seconds worlds cloud video production servi...   \n",
       "2         none  valor services provides workforce solutions me...   \n",
       "3         none  passion improving quality life geography heart...   \n",
       "4         none  spotsource solutions llc global human capital ...   \n",
       "\n",
       "                                         description  \\\n",
       "0  food52 fast growing james beard award winning ...   \n",
       "1  organised focused vibrant awesome passion cust...   \n",
       "2  client located houston actively seeking experi...   \n",
       "3  company esri environmental systems research in...   \n",
       "4  job title itemization review manager location ...   \n",
       "\n",
       "                                        requirements  \\\n",
       "0  experience content management systems major pl...   \n",
       "1  expect key responsibility communicate client 9...   \n",
       "2  implement pre commissioning commissioning proc...   \n",
       "3  education bachelor master gis business adminis...   \n",
       "4  qualifications rn license state texas diploma ...   \n",
       "\n",
       "                                            benefits has_company_logo  \\\n",
       "0                                               none                0   \n",
       "1  get us part 90 seconds team gain experience wo...                0   \n",
       "2                                               none                0   \n",
       "3  culture anything corporate collaborative creat...                0   \n",
       "4                              full benefits offered                0   \n",
       "\n",
       "  has_questions employment_type required_experience required_education  \\\n",
       "0             1                          internship               none   \n",
       "1             1       full time          applicable               none   \n",
       "2             1            none                none               none   \n",
       "3             1       full time    mid senior level    bachelor degree   \n",
       "4             0       full time    mid senior level    bachelor degree   \n",
       "\n",
       "                industry              function fraudulent  \n",
       "0                   none             marketing          0  \n",
       "1  marketing advertising      customer service          0  \n",
       "2                   none                  none          0  \n",
       "3      computer software                 sales          0  \n",
       "4   hospital health care  health care provider          0  "
      ]
     },
     "execution_count": 13,
     "metadata": {},
     "output_type": "execute_result"
    }
   ],
   "source": [
    "# View the dataset after the data preprocessing\n",
    "df.head()"
   ]
  },
  {
   "cell_type": "markdown",
   "metadata": {},
   "source": [
    "# Data Exploration & Visualisation <a name=\"d\"></a>"
   ]
  },
  {
   "cell_type": "code",
   "execution_count": 14,
   "metadata": {},
   "outputs": [
    {
     "data": {
      "text/plain": [
       "<matplotlib.axes._subplots.AxesSubplot at 0x172102d4cc8>"
      ]
     },
     "execution_count": 14,
     "metadata": {},
     "output_type": "execute_result"
    },
    {
     "data": {
      "image/png": "[encoded data removed]",
      "text/plain": [
       "<Figure size 432x288 with 1 Axes>"
      ]
     },
     "metadata": {},
     "output_type": "display_data"
    }
   ],
   "source": [
    "df['fraudulent'].value_counts().plot.pie(autopct='%1.0f%%')"
   ]
  },
  {
   "cell_type": "code",
   "execution_count": 15,
   "metadata": {},
   "outputs": [
    {
     "data": {
      "text/plain": [
       "<matplotlib.axes._subplots.AxesSubplot at 0x17215588208>"
      ]
     },
     "execution_count": 15,
     "metadata": {},
     "output_type": "execute_result"
    },
    {
     "data": {
      "image/png": "[encoded data removed]",
      "text/plain": [
       "<Figure size 432x288 with 1 Axes>"
      ]
     },
     "metadata": {},
     "output_type": "display_data"
    }
   ],
   "source": [
    "df['employment_type'].value_counts().plot.pie(autopct='%1.0f%%')"
   ]
  },
  {
   "cell_type": "code",
   "execution_count": 16,
   "metadata": {},
   "outputs": [
    {
     "data": {
      "text/plain": [
       "<matplotlib.axes._subplots.AxesSubplot at 0x172155f85c8>"
      ]
     },
     "execution_count": 16,
     "metadata": {},
     "output_type": "execute_result"
    },
    {
     "data": {
      "image/png": "[encoded data removed]",
      "text/plain": [
       "<Figure size 432x288 with 1 Axes>"
      ]
     },
     "metadata": {
      "needs_background": "light"
     },
     "output_type": "display_data"
    }
   ],
   "source": [
    "df['required_experience'].value_counts().plot.bar()"
   ]
  },
  {
   "cell_type": "markdown",
   "metadata": {},
   "source": [
    "95% of the job posts are legitimate and the rest 5% are fake. Most of the job post required full-time employees. However, the required experience is missing in the most of the job posts. "
   ]
  },
  {
   "cell_type": "code",
   "execution_count": 17,
   "metadata": {},
   "outputs": [
    {
     "data": {
      "text/plain": [
       "<matplotlib.axes._subplots.AxesSubplot at 0x17215696b88>"
      ]
     },
     "execution_count": 17,
     "metadata": {},
     "output_type": "execute_result"
    },
    {
     "data": {
      "image/png": "[encoded data removed]",
      "text/plain": [
       "<Figure size 432x288 with 1 Axes>"
      ]
     },
     "metadata": {
      "needs_background": "light"
     },
     "output_type": "display_data"
    }
   ],
   "source": [
    "grouped = df.groupby(['has_company_logo','fraudulent'])\n",
    "\n",
    "size = grouped.size()\n",
    "\n",
    "size.unstack().plot.bar()"
   ]
  },
  {
   "cell_type": "markdown",
   "metadata": {},
   "source": [
    "Most of the job posts have the company logo.In that, majority of the legitimate job posts have the company logo.Moreover, most of the fake job posts do not have the company logos. "
   ]
  },
  {
   "cell_type": "code",
   "execution_count": 18,
   "metadata": {},
   "outputs": [
    {
     "data": {
      "text/plain": [
       "<matplotlib.axes._subplots.AxesSubplot at 0x1720f1c3808>"
      ]
     },
     "execution_count": 18,
     "metadata": {},
     "output_type": "execute_result"
    },
    {
     "data": {
      "image/png": "[encoded data removed]",
      "text/plain": [
       "<Figure size 432x288 with 1 Axes>"
      ]
     },
     "metadata": {
      "needs_background": "light"
     },
     "output_type": "display_data"
    }
   ],
   "source": [
    "grouped = df.groupby(['required_experience','fraudulent'])\n",
    "\n",
    "size = grouped.size()\n",
    "\n",
    "size.unstack().plot.bar()"
   ]
  },
  {
   "cell_type": "markdown",
   "metadata": {},
   "source": [
    "Majority of the job posts do not mentioned the required experience and the fakeness level in this type of job posts are higher compare to the job posts with required experience. "
   ]
  },
  {
   "cell_type": "code",
   "execution_count": 19,
   "metadata": {},
   "outputs": [
    {
     "data": {
      "text/plain": [
       "<matplotlib.axes._subplots.AxesSubplot at 0x1720800b1c8>"
      ]
     },
     "execution_count": 19,
     "metadata": {},
     "output_type": "execute_result"
    },
    {
     "data": {
      "image/png": "[encoded data removed]",
      "text/plain": [
       "<Figure size 432x288 with 1 Axes>"
      ]
     },
     "metadata": {
      "needs_background": "light"
     },
     "output_type": "display_data"
    }
   ],
   "source": [
    "grouped = df.groupby(['employment_type','fraudulent'])\n",
    "\n",
    "size = grouped.size()\n",
    "\n",
    "size.unstack().plot.bar()"
   ]
  },
  {
   "cell_type": "markdown",
   "metadata": {},
   "source": [
    "Most of the job posts required full time employees and most of them are legitimate job posts. "
   ]
  },
  {
   "cell_type": "code",
   "execution_count": 20,
   "metadata": {},
   "outputs": [
    {
     "data": {
      "image/png": "[encoded data removed]",
      "text/plain": [
       "<Figure size 2000x500 with 2 Axes>"
      ]
     },
     "metadata": {},
     "output_type": "display_data"
    }
   ],
   "source": [
    "import matplotlib.pyplot as plt\n",
    "plt.style.use('fivethirtyeight')\n",
    "\n",
    "#Extracting Text Featurs\n",
    "text = df[['title', 'company_profile', 'description', 'requirements','benefits','fraudulent']]\n",
    "\n",
    "fig,(ax,ax1)= plt.subplots(ncols=2, figsize=(20, 5), dpi=100)\n",
    "length=text[text['fraudulent']=='0']['description'].str.len()\n",
    "ax.hist(length, bins = 20,color='green')\n",
    "ax.set_title('Real Job Post')\n",
    "\n",
    "length=text[text['fraudulent']=='1']['description'].str.len()\n",
    "ax1.hist(length,bins = 20,color='orange')\n",
    "ax1.set_title('Fake Job Post')\n",
    "\n",
    "fig.suptitle('Number of characters in job description')\n",
    "plt.show()"
   ]
  },
  {
   "cell_type": "code",
   "execution_count": 21,
   "metadata": {},
   "outputs": [
    {
     "data": {
      "image/png": "[encoded data removed]",
      "text/plain": [
       "<Figure size 2000x500 with 2 Axes>"
      ]
     },
     "metadata": {},
     "output_type": "display_data"
    }
   ],
   "source": [
    "import matplotlib.pyplot as plt\n",
    "plt.style.use('fivethirtyeight')\n",
    "\n",
    "fig,(ax,ax1)= plt.subplots(ncols=2, figsize=(20, 5), dpi=100)\n",
    "length=text[text['fraudulent']=='0']['company_profile'].str.len()\n",
    "ax.hist(length, bins = 20,color='green')\n",
    "ax.set_title('Real Job Post')\n",
    "\n",
    "length=text[text['fraudulent']=='1']['company_profile'].str.len()\n",
    "ax1.hist(length,bins = 20,color='orange')\n",
    "ax1.set_title('Fake Job Post')\n",
    "\n",
    "fig.suptitle('Number of characters in company profile')\n",
    "plt.show()"
   ]
  },
  {
   "cell_type": "code",
   "execution_count": 22,
   "metadata": {},
   "outputs": [
    {
     "data": {
      "image/png": "[encoded data removed]",
      "text/plain": [
       "<Figure size 2000x500 with 2 Axes>"
      ]
     },
     "metadata": {},
     "output_type": "display_data"
    }
   ],
   "source": [
    "import matplotlib.pyplot as plt\n",
    "plt.style.use('fivethirtyeight')\n",
    "\n",
    "fig,(ax,ax1)= plt.subplots(ncols=2, figsize=(20, 5), dpi=100)\n",
    "length=text[text['fraudulent']=='0']['benefits'].str.len()\n",
    "ax.hist(length, bins = 20,color='green')\n",
    "ax.set_title('Real Job Post')\n",
    "\n",
    "length=text[text['fraudulent']=='1']['benefits'].str.len()\n",
    "ax1.hist(length,bins = 20,color='orange')\n",
    "ax1.set_title('Fake Job Post')\n",
    "\n",
    "fig.suptitle('Number of characters in benefits')\n",
    "plt.show()"
   ]
  },
  {
   "cell_type": "markdown",
   "metadata": {},
   "source": [
    "Fake job posts have more characters in job descriptions and benefits compare to the legitimate job posts. However, legitimate job posts have more number of characters in company profile compare to the fake job post. It is clearly shows that, legitimate job posts have detail information about the company profile and fake job posts have more descriptions and job benefits to attract the candidates. "
   ]
  },
  {
   "cell_type": "code",
   "execution_count": 23,
   "metadata": {},
   "outputs": [
    {
     "data": {
      "text/plain": [
       "0    14220\n",
       "Name: has_company_logo, dtype: int64"
      ]
     },
     "execution_count": 23,
     "metadata": {},
     "output_type": "execute_result"
    }
   ],
   "source": [
    "logo=df[df['has_company_logo']=='0']\n",
    "logo['has_company_logo'].value_counts()"
   ]
  },
  {
   "cell_type": "code",
   "execution_count": 24,
   "metadata": {},
   "outputs": [
    {
     "data": {
      "text/plain": [
       "0    7836\n",
       "Name: has_questions, dtype: int64"
      ]
     },
     "execution_count": 24,
     "metadata": {},
     "output_type": "execute_result"
    }
   ],
   "source": [
    "ques=logo[logo['has_questions']=='0']\n",
    "ques['has_questions'].value_counts()"
   ]
  },
  {
   "cell_type": "code",
   "execution_count": 25,
   "metadata": {},
   "outputs": [
    {
     "data": {
      "text/plain": [
       "0    7679\n",
       "1     157\n",
       "Name: fraudulent, dtype: int64"
      ]
     },
     "execution_count": 25,
     "metadata": {},
     "output_type": "execute_result"
    }
   ],
   "source": [
    "ques['fraudulent'].value_counts()"
   ]
  },
  {
   "cell_type": "code",
   "execution_count": 26,
   "metadata": {},
   "outputs": [
    {
     "data": {
      "text/plain": [
       "<matplotlib.axes._subplots.AxesSubplot at 0x17215c28888>"
      ]
     },
     "execution_count": 26,
     "metadata": {},
     "output_type": "execute_result"
    },
    {
     "data": {
      "image/png": "[encoded data removed]",
      "text/plain": [
       "<Figure size 432x288 with 1 Axes>"
      ]
     },
     "metadata": {},
     "output_type": "display_data"
    }
   ],
   "source": [
    "ques['fraudulent'].value_counts().plot.pie(autopct='%1.0f%%')"
   ]
  },
  {
   "cell_type": "markdown",
   "metadata": {},
   "source": [
    "This pie chart above clearly shows that, the companies which have company logos and questions in the job advertisements are 98% legitimate. "
   ]
  },
  {
   "cell_type": "code",
   "execution_count": 27,
   "metadata": {},
   "outputs": [
    {
     "data": {
      "text/plain": [
       "1    3660\n",
       "Name: has_company_logo, dtype: int64"
      ]
     },
     "execution_count": 27,
     "metadata": {},
     "output_type": "execute_result"
    }
   ],
   "source": [
    "logo=df[df['has_company_logo']=='1']\n",
    "logo['has_company_logo'].value_counts()"
   ]
  },
  {
   "cell_type": "code",
   "execution_count": 28,
   "metadata": {},
   "outputs": [
    {
     "data": {
      "text/plain": [
       "1    2704\n",
       "Name: has_questions, dtype: int64"
      ]
     },
     "execution_count": 28,
     "metadata": {},
     "output_type": "execute_result"
    }
   ],
   "source": [
    "ques=logo[logo['has_questions']=='1']\n",
    "ques['has_questions'].value_counts()"
   ]
  },
  {
   "cell_type": "code",
   "execution_count": 29,
   "metadata": {},
   "outputs": [
    {
     "data": {
      "text/plain": [
       "0    2214\n",
       "1     490\n",
       "Name: fraudulent, dtype: int64"
      ]
     },
     "execution_count": 29,
     "metadata": {},
     "output_type": "execute_result"
    }
   ],
   "source": [
    "ques['fraudulent'].value_counts()"
   ]
  },
  {
   "cell_type": "code",
   "execution_count": 30,
   "metadata": {},
   "outputs": [
    {
     "data": {
      "text/plain": [
       "<matplotlib.axes._subplots.AxesSubplot at 0x17215e72988>"
      ]
     },
     "execution_count": 30,
     "metadata": {},
     "output_type": "execute_result"
    },
    {
     "data": {
      "image/png": "[encoded data removed]",
      "text/plain": [
       "<Figure size 432x288 with 1 Axes>"
      ]
     },
     "metadata": {},
     "output_type": "display_data"
    }
   ],
   "source": [
    "ques['fraudulent'].value_counts().plot.pie(autopct='%1.0f%%')"
   ]
  },
  {
   "cell_type": "markdown",
   "metadata": {},
   "source": [
    "This pie chart above shows that, the companies which do not have company logo and questions in the job advertisements are 82% legitimate. This is due to the imbalance count in the fake and real job post as majority of the job posts are legitimate. However, while comparing to the previous pie chart, the percentage of the fake job posts is much higher. "
   ]
  },
  {
   "cell_type": "code",
   "execution_count": 31,
   "metadata": {},
   "outputs": [
    {
     "data": {
      "text/plain": [
       "1    866\n",
       "Name: fraudulent, dtype: int64"
      ]
     },
     "execution_count": 31,
     "metadata": {},
     "output_type": "execute_result"
    }
   ],
   "source": [
    "fd=df[df['fraudulent']=='1']\n",
    "fd['fraudulent'].value_counts()"
   ]
  },
  {
   "cell_type": "code",
   "execution_count": 32,
   "metadata": {},
   "outputs": [
    {
     "data": {
      "text/plain": [
       "1    616\n",
       "Name: has_questions, dtype: int64"
      ]
     },
     "execution_count": 32,
     "metadata": {},
     "output_type": "execute_result"
    }
   ],
   "source": [
    "ques=fd[fd['has_questions']=='1']\n",
    "ques['has_questions'].value_counts()"
   ]
  },
  {
   "cell_type": "code",
   "execution_count": 33,
   "metadata": {},
   "outputs": [
    {
     "data": {
      "text/plain": [
       "1    490\n",
       "0    126\n",
       "Name: has_company_logo, dtype: int64"
      ]
     },
     "execution_count": 33,
     "metadata": {},
     "output_type": "execute_result"
    }
   ],
   "source": [
    "ques['has_company_logo'].value_counts()"
   ]
  },
  {
   "cell_type": "code",
   "execution_count": 34,
   "metadata": {},
   "outputs": [
    {
     "data": {
      "text/plain": [
       "<matplotlib.axes._subplots.AxesSubplot at 0x17215cb1b08>"
      ]
     },
     "execution_count": 34,
     "metadata": {},
     "output_type": "execute_result"
    },
    {
     "data": {
      "image/png": "[encoded data removed]",
      "text/plain": [
       "<Figure size 432x288 with 1 Axes>"
      ]
     },
     "metadata": {},
     "output_type": "display_data"
    }
   ],
   "source": [
    "ques['has_company_logo'].value_counts().plot.bar()"
   ]
  },
  {
   "cell_type": "markdown",
   "metadata": {},
   "source": [
    "The diagram above shows that, the majority of the fake job posts without question do not have company logos. "
   ]
  },
  {
   "cell_type": "markdown",
   "metadata": {},
   "source": [
    "Numeric summary will be generated to have a better understanding about the preprocessed data before modelling it. "
   ]
  },
  {
   "cell_type": "code",
   "execution_count": 35,
   "metadata": {},
   "outputs": [
    {
     "data": {
      "text/html": [
       "<div>\n",
       "<style scoped>\n",
       "    .dataframe tbody tr th:only-of-type {\n",
       "        vertical-align: middle;\n",
       "    }\n",
       "\n",
       "    .dataframe tbody tr th {\n",
       "        vertical-align: top;\n",
       "    }\n",
       "\n",
       "    .dataframe thead th {\n",
       "        text-align: right;\n",
       "    }\n",
       "</style>\n",
       "<table border=\"1\" class=\"dataframe\">\n",
       "  <thead>\n",
       "    <tr style=\"text-align: right;\">\n",
       "      <th></th>\n",
       "      <th>title</th>\n",
       "      <th>location</th>\n",
       "      <th>department</th>\n",
       "      <th>salary_range</th>\n",
       "      <th>company_profile</th>\n",
       "      <th>description</th>\n",
       "      <th>requirements</th>\n",
       "      <th>benefits</th>\n",
       "      <th>has_company_logo</th>\n",
       "      <th>has_questions</th>\n",
       "      <th>employment_type</th>\n",
       "      <th>required_experience</th>\n",
       "      <th>required_education</th>\n",
       "      <th>industry</th>\n",
       "      <th>function</th>\n",
       "      <th>fraudulent</th>\n",
       "    </tr>\n",
       "  </thead>\n",
       "  <tbody>\n",
       "    <tr>\n",
       "      <th>count</th>\n",
       "      <td>17880</td>\n",
       "      <td>17880</td>\n",
       "      <td>17880</td>\n",
       "      <td>17880</td>\n",
       "      <td>17880</td>\n",
       "      <td>17880</td>\n",
       "      <td>17880</td>\n",
       "      <td>17880</td>\n",
       "      <td>17880</td>\n",
       "      <td>17880</td>\n",
       "      <td>17880</td>\n",
       "      <td>17880</td>\n",
       "      <td>17880</td>\n",
       "      <td>17880</td>\n",
       "      <td>17880</td>\n",
       "      <td>17880</td>\n",
       "    </tr>\n",
       "    <tr>\n",
       "      <th>unique</th>\n",
       "      <td>10466</td>\n",
       "      <td>2727</td>\n",
       "      <td>1186</td>\n",
       "      <td>875</td>\n",
       "      <td>1707</td>\n",
       "      <td>14407</td>\n",
       "      <td>11734</td>\n",
       "      <td>5753</td>\n",
       "      <td>2</td>\n",
       "      <td>2</td>\n",
       "      <td>6</td>\n",
       "      <td>8</td>\n",
       "      <td>14</td>\n",
       "      <td>132</td>\n",
       "      <td>38</td>\n",
       "      <td>2</td>\n",
       "    </tr>\n",
       "    <tr>\n",
       "      <th>top</th>\n",
       "      <td>english teacher abroad</td>\n",
       "      <td>gb lnd london</td>\n",
       "      <td>none</td>\n",
       "      <td>none</td>\n",
       "      <td>none</td>\n",
       "      <td>play kids get paid love travel jobs asia 1 500...</td>\n",
       "      <td>none</td>\n",
       "      <td>none</td>\n",
       "      <td>0</td>\n",
       "      <td>1</td>\n",
       "      <td>full time</td>\n",
       "      <td>none</td>\n",
       "      <td>none</td>\n",
       "      <td>none</td>\n",
       "      <td>none</td>\n",
       "      <td>0</td>\n",
       "    </tr>\n",
       "    <tr>\n",
       "      <th>freq</th>\n",
       "      <td>406</td>\n",
       "      <td>750</td>\n",
       "      <td>11547</td>\n",
       "      <td>15012</td>\n",
       "      <td>3308</td>\n",
       "      <td>417</td>\n",
       "      <td>2690</td>\n",
       "      <td>7199</td>\n",
       "      <td>14220</td>\n",
       "      <td>9088</td>\n",
       "      <td>11620</td>\n",
       "      <td>7050</td>\n",
       "      <td>8105</td>\n",
       "      <td>4903</td>\n",
       "      <td>6455</td>\n",
       "      <td>17014</td>\n",
       "    </tr>\n",
       "  </tbody>\n",
       "</table>\n",
       "</div>"
      ],
      "text/plain": [
       "                         title       location department salary_range  \\\n",
       "count                    17880          17880      17880        17880   \n",
       "unique                   10466           2727       1186          875   \n",
       "top     english teacher abroad  gb lnd london       none         none   \n",
       "freq                       406            750      11547        15012   \n",
       "\n",
       "       company_profile                                        description  \\\n",
       "count            17880                                              17880   \n",
       "unique            1707                                              14407   \n",
       "top               none  play kids get paid love travel jobs asia 1 500...   \n",
       "freq              3308                                                417   \n",
       "\n",
       "       requirements benefits has_company_logo has_questions employment_type  \\\n",
       "count         17880    17880            17880         17880           17880   \n",
       "unique        11734     5753                2             2               6   \n",
       "top            none     none                0             1       full time   \n",
       "freq           2690     7199            14220          9088           11620   \n",
       "\n",
       "       required_experience required_education industry function fraudulent  \n",
       "count                17880              17880    17880    17880      17880  \n",
       "unique                   8                 14      132       38          2  \n",
       "top                   none               none     none     none          0  \n",
       "freq                  7050               8105     4903     6455      17014  "
      ]
     },
     "execution_count": 35,
     "metadata": {},
     "output_type": "execute_result"
    }
   ],
   "source": [
    "#numerical summary of the dataframe\n",
    "df.describe()"
   ]
  },
  {
   "cell_type": "markdown",
   "metadata": {},
   "source": [
    "# Predictive Modelling <a name=\"e\"></a>"
   ]
  },
  {
   "cell_type": "markdown",
   "metadata": {},
   "source": [
    "## Overview of the methodology <a name=\"e1\"></a>"
   ]
  },
  {
   "cell_type": "markdown",
   "metadata": {},
   "source": [
    "This project presents a comparative analysis of  Employment Scam problem using four different machine learning algorithms. The comparative analysis will be performed to predict the fraudulent of the job advertisments. In this project, 4 different machine learning algorithms will be used to build the models. Performance and the accurancy level of the models will be evaluated using hyperparameters tuning and cross-validation method. The best model with high accurancy will be selected as the proposed model for this project. KNN, Random Forest,Decision tree and Logistic Regression are the algorithms that will be used in building the models.<br>\n",
    "The proposed models will be involved five main stages of scrutiny:\n",
    " - First stage: Feature selection, where the important feature is selected to build the models\n",
    " - Second stage: Pre-processing stage where the selected features will go through the data pre-processing as the features are text(words and phrases)\n",
    " - Third stage:Classification, where the 4 different algorithms used to build the models separately\n",
    " - Fourth stage:Model selection, where a grid search or hyperparameters tuning is used for the models to find the optimal parameters  \n",
    " - Fifth stage:  Performance comparison, where each model will be compared to the other models using paired t-tests"
   ]
  },
  {
   "cell_type": "markdown",
   "metadata": {},
   "source": [
    "## Feature Selection <a name=\"e2\"></a>"
   ]
  },
  {
   "cell_type": "markdown",
   "metadata": {},
   "source": [
    "Since, the important features in this data are categorical features which are going to be combined as one during the pre-processing stage, the feature selection will be performed first. Top 5 features have been selected as these columns have more number of words."
   ]
  },
  {
   "cell_type": "code",
   "execution_count": 36,
   "metadata": {},
   "outputs": [],
   "source": [
    "#feature selection\n",
    "text_df = df[[\"title\", \"company_profile\", \"description\", \"requirements\", \"benefits\",\"fraudulent\"]]"
   ]
  },
  {
   "cell_type": "code",
   "execution_count": 37,
   "metadata": {},
   "outputs": [],
   "source": [
    "text = text_df[text_df.columns[0:5]].apply(lambda x: ','.join(x.dropna().astype(str)),axis=1)\n",
    "target = df['fraudulent']\n"
   ]
  },
  {
   "cell_type": "markdown",
   "metadata": {},
   "source": [
    "##  Pre-processing  <a name=\"e3\"></a>"
   ]
  },
  {
   "cell_type": "markdown",
   "metadata": {},
   "source": [
    "Data preprocessing is performed for the selected text features using tokenization. Tokenization enables the text to be divided into meaningful pieces. "
   ]
  },
  {
   "cell_type": "code",
   "execution_count": 38,
   "metadata": {},
   "outputs": [
    {
     "data": {
      "text/plain": [
       "0    [marketing, intern, food52, created, groundbre...\n",
       "1    [customer, service, cloud, video, production, ...\n",
       "2    [commissioning, machinery, assistant, cma, val...\n",
       "dtype: object"
      ]
     },
     "execution_count": 38,
     "metadata": {},
     "output_type": "execute_result"
    }
   ],
   "source": [
    "import nltk\n",
    "from nltk.corpus import stopwords\n",
    "from nltk.tokenize import word_tokenize\n",
    "\n",
    "tokenizer = nltk.tokenize.RegexpTokenizer(r'\\w+')\n",
    "\n",
    "# applying tokenizer\n",
    "text = text.apply(lambda x: tokenizer.tokenize(x))\n",
    "text.head(3)"
   ]
  },
  {
   "cell_type": "code",
   "execution_count": 39,
   "metadata": {},
   "outputs": [
    {
     "data": {
      "text/plain": [
       "0    marketing intern food52 created groundbreaking...\n",
       "1    customer service cloud video production 90 sec...\n",
       "2    commissioning machinery assistant cma valor se...\n",
       "dtype: object"
      ]
     },
     "execution_count": 39,
     "metadata": {},
     "output_type": "execute_result"
    }
   ],
   "source": [
    "#Removing the punctuation\n",
    "def combine_text(list_of_text):\n",
    "    combined_text = ' '.join(list_of_text)\n",
    "    return combined_text\n",
    "\n",
    "text = text.apply(lambda x : combine_text(x))\n",
    "text.head(3)"
   ]
  },
  {
   "cell_type": "markdown",
   "metadata": {},
   "source": [
    "The dataset will be splitted into train and test set with the standard ratio of 70%-30% (70% for the training set and 30% for the testing set). "
   ]
  },
  {
   "cell_type": "code",
   "execution_count": 40,
   "metadata": {},
   "outputs": [],
   "source": [
    "from sklearn.model_selection import train_test_split\n",
    "x=text\n",
    "y=target\n",
    "\n",
    "x_train, x_test, y_train, y_test = train_test_split(x,y, test_size = 0.3, random_state=0)"
   ]
  },
  {
   "cell_type": "code",
   "execution_count": 41,
   "metadata": {},
   "outputs": [
    {
     "name": "stdout",
     "output_type": "stream",
     "text": [
      "Length of x_train: 12516 \n",
      "Length of y_train: 12516\n",
      "Length of x_test: 5364 \n",
      "Length of y_test: 5364\n"
     ]
    }
   ],
   "source": [
    "#Checking the length of the train and test set\n",
    "print('Length of x_train:',len(x_train),'\\nLength of y_train:',len(y_train))\n",
    "print('Length of x_test:',len(x_test),'\\nLength of y_test:',len(y_test))"
   ]
  },
  {
   "cell_type": "markdown",
   "metadata": {},
   "source": [
    "CountVectorizer is used to encode the text . "
   ]
  },
  {
   "cell_type": "code",
   "execution_count": 42,
   "metadata": {},
   "outputs": [],
   "source": [
    "from sklearn.feature_extraction.text import CountVectorizer, TfidfVectorizer\n",
    "\n",
    "# Applying Count Vectorizer\n",
    "count_vectorizer = CountVectorizer()\n",
    "x_train = count_vectorizer.fit_transform(x_train)\n",
    "x_test = count_vectorizer.transform(x_test)    \n",
    " "
   ]
  },
  {
   "cell_type": "markdown",
   "metadata": {},
   "source": [
    "## Classification Algorithm <a name=\"e4\"></a>"
   ]
  },
  {
   "cell_type": "markdown",
   "metadata": {},
   "source": [
    "### LogisticRegression <a name=\"e41\"></a>"
   ]
  },
  {
   "cell_type": "code",
   "execution_count": 43,
   "metadata": {
    "scrolled": true
   },
   "outputs": [
    {
     "name": "stdout",
     "output_type": "stream",
     "text": [
      "Accuracy: 0.9841536167039523\n"
     ]
    }
   ],
   "source": [
    "from sklearn.linear_model import LogisticRegression\n",
    "lr=LogisticRegression()\n",
    "lr.fit(x_train,y_train)\n",
    "\n",
    "#predicting the test set result\n",
    "y_pred=lr.predict(x_test)\n",
    "\n",
    "from sklearn import metrics\n",
    "# printing the accurancy of the model\n",
    "print(\"Accuracy:\",metrics.accuracy_score(y_test, y_pred))"
   ]
  },
  {
   "cell_type": "code",
   "execution_count": 44,
   "metadata": {},
   "outputs": [
    {
     "name": "stdout",
     "output_type": "stream",
     "text": [
      "[[5106   31]\n",
      " [  54  173]]\n",
      "              precision    recall  f1-score   support\n",
      "\n",
      "           0       0.99      0.99      0.99      5137\n",
      "           1       0.85      0.76      0.80       227\n",
      "\n",
      "    accuracy                           0.98      5364\n",
      "   macro avg       0.92      0.88      0.90      5364\n",
      "weighted avg       0.98      0.98      0.98      5364\n",
      "\n"
     ]
    }
   ],
   "source": [
    "from sklearn.metrics import classification_report, confusion_matrix\n",
    "# printing confusion matrix\n",
    "print(confusion_matrix(y_test, y_pred))\n",
    "# printing classification report\n",
    "print (classification_report(y_test, y_pred))"
   ]
  },
  {
   "cell_type": "code",
   "execution_count": 45,
   "metadata": {},
   "outputs": [
    {
     "data": {
      "image/png": "[encoded data removed]",
      "text/plain": [
       "<Figure size 432x288 with 2 Axes>"
      ]
     },
     "metadata": {},
     "output_type": "display_data"
    }
   ],
   "source": [
    "from sklearn.metrics import plot_confusion_matrix\n",
    "\n",
    "plot_confusion_matrix(lr, x_test, y_test) \n",
    "plt.show()"
   ]
  },
  {
   "cell_type": "markdown",
   "metadata": {},
   "source": [
    "#### Logistic Regression Hyperparameter Tuning Using Grid Search<a name=\"e411\"></a>"
   ]
  },
  {
   "cell_type": "code",
   "execution_count": 46,
   "metadata": {},
   "outputs": [
    {
     "name": "stdout",
     "output_type": "stream",
     "text": [
      "Fitting 10 folds for each of 20 candidates, totalling 200 fits\n"
     ]
    },
    {
     "name": "stderr",
     "output_type": "stream",
     "text": [
      "[Parallel(n_jobs=-1)]: Using backend LokyBackend with 8 concurrent workers.\n",
      "[Parallel(n_jobs=-1)]: Done  34 tasks      | elapsed:    5.4s\n",
      "[Parallel(n_jobs=-1)]: Done 184 tasks      | elapsed:   48.4s\n",
      "[Parallel(n_jobs=-1)]: Done 200 out of 200 | elapsed:   58.2s finished\n"
     ]
    },
    {
     "name": "stdout",
     "output_type": "stream",
     "text": [
      "Best score:  0.9760590100105496\n",
      "Best parameter:  {'C': 0.1, 'penalty': 'l2'}\n"
     ]
    }
   ],
   "source": [
    "from sklearn.model_selection import GridSearchCV\n",
    "log_reg = LogisticRegression()\n",
    "c_values = [0.00001, 0.0001, 0.001, 0.01, 0.1, 1, 10, 100, 1000, 10000]\n",
    "penalty_options = ['l1', 'l2']\n",
    "param_grid = dict(C = c_values, penalty = penalty_options)\n",
    "grid_tfidf = GridSearchCV(log_reg, param_grid = param_grid, cv = 10, scoring = 'roc_auc', n_jobs = -1, verbose=1)\n",
    "grid_tfidf.fit(x_train, y_train)\n",
    "log_reg_pred = grid_tfidf.predict(x_test)\n",
    "print (\"Best score: \",grid_tfidf.best_score_)\n",
    "print (\"Best parameter: \",grid_tfidf.best_params_)\n",
    "\n"
   ]
  },
  {
   "cell_type": "code",
   "execution_count": 47,
   "metadata": {},
   "outputs": [
    {
     "name": "stdout",
     "output_type": "stream",
     "text": [
      "              precision    recall  f1-score   support\n",
      "\n",
      "           0       0.99      1.00      0.99      5137\n",
      "           1       0.91      0.73      0.81       227\n",
      "\n",
      "    accuracy                           0.99      5364\n",
      "   macro avg       0.95      0.86      0.90      5364\n",
      "weighted avg       0.98      0.99      0.98      5364\n",
      "\n"
     ]
    }
   ],
   "source": [
    "#print (roc_auc_score(y_test, log_reg_pred))\n",
    "print (classification_report(y_test, log_reg_pred))"
   ]
  },
  {
   "cell_type": "markdown",
   "metadata": {},
   "source": [
    "There is an increase in the accurancy score after using the grid search to tune the paramaters. From 98%, the accurancy score is increased to 99% after the hyperparameter tuning using grid search. "
   ]
  },
  {
   "cell_type": "markdown",
   "metadata": {},
   "source": [
    "### Random Forest  <a name=\"e42\"></a>"
   ]
  },
  {
   "cell_type": "code",
   "execution_count": 48,
   "metadata": {},
   "outputs": [
    {
     "name": "stdout",
     "output_type": "stream",
     "text": [
      "Accuracy: 0.9856450410141685\n"
     ]
    }
   ],
   "source": [
    "from sklearn.ensemble import RandomForestClassifier\n",
    "\n",
    "#Create a Gaussian Classifier\n",
    "forest=RandomForestClassifier(n_estimators=100, random_state=1, n_jobs=1)\n",
    "\n",
    "#Train the model using the training sets\n",
    "forest.fit(x_train,y_train)\n",
    "\n",
    "#predicting the test set result\n",
    "y_pred=forest.predict(x_test)\n",
    "\n",
    "from sklearn import metrics\n",
    "# prining the Model Accuracy\n",
    "print(\"Accuracy:\",metrics.accuracy_score(y_test, y_pred))"
   ]
  },
  {
   "cell_type": "code",
   "execution_count": 49,
   "metadata": {},
   "outputs": [
    {
     "name": "stdout",
     "output_type": "stream",
     "text": [
      "[[5133    4]\n",
      " [  73  154]]\n",
      "              precision    recall  f1-score   support\n",
      "\n",
      "           0       0.99      1.00      0.99      5137\n",
      "           1       0.97      0.68      0.80       227\n",
      "\n",
      "    accuracy                           0.99      5364\n",
      "   macro avg       0.98      0.84      0.90      5364\n",
      "weighted avg       0.99      0.99      0.98      5364\n",
      "\n"
     ]
    }
   ],
   "source": [
    "from sklearn.metrics import classification_report, confusion_matrix\n",
    "print(confusion_matrix(y_test, y_pred))\n",
    "print (classification_report(y_test, y_pred))"
   ]
  },
  {
   "cell_type": "code",
   "execution_count": 50,
   "metadata": {},
   "outputs": [
    {
     "data": {
      "image/png": "[encoded data removed]",
      "text/plain": [
       "<Figure size 432x288 with 2 Axes>"
      ]
     },
     "metadata": {},
     "output_type": "display_data"
    }
   ],
   "source": [
    "from sklearn.metrics import plot_confusion_matrix\n",
    "\n",
    "plot_confusion_matrix(forest, x_test, y_test) \n",
    "plt.show()"
   ]
  },
  {
   "cell_type": "markdown",
   "metadata": {},
   "source": [
    "#### Random Forest Hyperparameter Tuning Using Grid Search<a name=\"e422\"></a>"
   ]
  },
  {
   "cell_type": "code",
   "execution_count": 51,
   "metadata": {},
   "outputs": [
    {
     "name": "stdout",
     "output_type": "stream",
     "text": [
      "Fitting 10 folds for each of 9 candidates, totalling 90 fits\n"
     ]
    },
    {
     "name": "stderr",
     "output_type": "stream",
     "text": [
      "[Parallel(n_jobs=-1)]: Using backend LokyBackend with 8 concurrent workers.\n",
      "[Parallel(n_jobs=-1)]: Done  34 tasks      | elapsed:    9.1s\n",
      "[Parallel(n_jobs=-1)]: Done  90 out of  90 | elapsed:  4.7min finished\n"
     ]
    },
    {
     "name": "stdout",
     "output_type": "stream",
     "text": [
      "Best score: 0.9827422690329696\n",
      "Best parameter: {'n_estimators': 200}\n"
     ]
    }
   ],
   "source": [
    "#hyperparameter best n_estimators\n",
    "from sklearn.ensemble import RandomForestClassifier\n",
    "from sklearn.model_selection import GridSearchCV\n",
    "rf = RandomForestClassifier()\n",
    "n_estimators_range = [1, 2, 4,8,16,32,64,100,200]\n",
    "param_grid_rf = dict(n_estimators = n_estimators_range)\n",
    "grid_rf = GridSearchCV(rf, param_grid_rf, cv = 10, scoring = 'roc_auc', n_jobs = -1, verbose = 1)\n",
    "grid_rf.fit(x_train, y_train)\n",
    "rf_pred = grid_rf.predict(x_test)\n",
    "print (\"Best score:\",grid_rf.best_score_)\n",
    "print (\"Best parameter:\",grid_rf.best_params_)\n"
   ]
  },
  {
   "cell_type": "code",
   "execution_count": 52,
   "metadata": {},
   "outputs": [
    {
     "name": "stdout",
     "output_type": "stream",
     "text": [
      "              precision    recall  f1-score   support\n",
      "\n",
      "           0       0.99      1.00      0.99      5137\n",
      "           1       0.97      0.67      0.79       227\n",
      "\n",
      "    accuracy                           0.99      5364\n",
      "   macro avg       0.98      0.83      0.89      5364\n",
      "weighted avg       0.99      0.99      0.98      5364\n",
      "\n"
     ]
    }
   ],
   "source": [
    "print (classification_report(y_test, rf_pred))"
   ]
  },
  {
   "cell_type": "code",
   "execution_count": 53,
   "metadata": {},
   "outputs": [
    {
     "name": "stdout",
     "output_type": "stream",
     "text": [
      "Accuracy: 0.9856450410141685\n"
     ]
    }
   ],
   "source": [
    "#using the best n_estimator\n",
    "from sklearn.ensemble import RandomForestClassifier\n",
    "\n",
    "#Create a Gaussian Classifier\n",
    "forest=RandomForestClassifier(n_estimators=200, random_state=1, n_jobs=1)\n",
    "\n",
    "#Train the model using the training sets y_pred=clf.predict(X_test)\n",
    "forest.fit(x_train,y_train)\n",
    "\n",
    "#predicting the test set result\n",
    "y_pred=forest.predict(x_test)\n",
    "\n",
    "from sklearn import metrics\n",
    "# Model Accuracy, how often is the classifier correct?\n",
    "print(\"Accuracy:\",metrics.accuracy_score(y_test, y_pred))"
   ]
  },
  {
   "cell_type": "code",
   "execution_count": 54,
   "metadata": {},
   "outputs": [
    {
     "name": "stdout",
     "output_type": "stream",
     "text": [
      "[[5133    4]\n",
      " [  73  154]]\n",
      "              precision    recall  f1-score   support\n",
      "\n",
      "           0       0.99      1.00      0.99      5137\n",
      "           1       0.97      0.68      0.80       227\n",
      "\n",
      "    accuracy                           0.99      5364\n",
      "   macro avg       0.98      0.84      0.90      5364\n",
      "weighted avg       0.99      0.99      0.98      5364\n",
      "\n"
     ]
    }
   ],
   "source": [
    "from sklearn.metrics import classification_report, confusion_matrix\n",
    "print(confusion_matrix(y_test, y_pred))\n",
    "print (classification_report(y_test, y_pred))"
   ]
  },
  {
   "cell_type": "markdown",
   "metadata": {},
   "source": [
    "It is shows that, there is no difference in the accurancy score before and after the tuning. Probably, 99% is the best accurancy score of the model and there is nothing much can be improvised to enhance the model's performance. "
   ]
  },
  {
   "cell_type": "markdown",
   "metadata": {},
   "source": [
    "### KNN  <a name=\"e43\"></a>"
   ]
  },
  {
   "cell_type": "markdown",
   "metadata": {},
   "source": [
    "A random value for k is choosen to check the accuracy."
   ]
  },
  {
   "cell_type": "code",
   "execution_count": 55,
   "metadata": {},
   "outputs": [
    {
     "name": "stdout",
     "output_type": "stream",
     "text": [
      "Accuracy: 0.9103281133482476\n"
     ]
    }
   ],
   "source": [
    "from sklearn.neighbors import KNeighborsClassifier\n",
    "from sklearn.metrics import accuracy_score\n",
    "\n",
    "knn = KNeighborsClassifier(n_neighbors=3)\n",
    "\n",
    "# fitting the model\n",
    "knn.fit(x_train, y_train)\n",
    "\n",
    "# predict the response\n",
    "y_pred = knn.predict(x_test)\n",
    "\n",
    "from sklearn import metrics\n",
    "# Model Accuracy, how often is the classifier correct?\n",
    "print(\"Accuracy:\",metrics.accuracy_score(y_test, y_pred))"
   ]
  },
  {
   "cell_type": "markdown",
   "metadata": {},
   "source": [
    "#### KNN  tuning <a name=\"e433\"></a>"
   ]
  },
  {
   "cell_type": "markdown",
   "metadata": {},
   "source": [
    "The best value of K  will have the least error rate. But utilising the test data for tuning of hyperparameter can lead to  overfiting. So k-fold cross validation is used, it involves calculationg the error rate  for a subset  of training  set.This set is the validating set. 10 –fold cross validation is utilised.It randomly divides the training set into 10  folds of almost equal size.The first fold is the validating set and the method  will be fittied on the 9 folds. It will be repeated 10 times  and each time  adifferent fold  is treated as a validating set."
   ]
  },
  {
   "cell_type": "code",
   "execution_count": 56,
   "metadata": {},
   "outputs": [],
   "source": [
    "from sklearn.model_selection import cross_val_score\n",
    "# creating odd list of K for KNN\n",
    "neighbors = list(range(1, 30,2))\n",
    "\n",
    "# empty list that will hold cv scores\n",
    "cv_scores = []\n",
    "\n",
    "# perform 10-fold cross validation\n",
    "for k in neighbors:\n",
    "    knn = KNeighborsClassifier(n_neighbors=k)\n",
    "    scores = cross_val_score(knn, x_train, y_train, cv=10, scoring='accuracy')\n",
    "    cv_scores.append(scores.mean())"
   ]
  },
  {
   "cell_type": "code",
   "execution_count": 57,
   "metadata": {},
   "outputs": [
    {
     "name": "stdout",
     "output_type": "stream",
     "text": [
      "The optimal number of neighbors is 23\n"
     ]
    },
    {
     "data": {
      "image/png": "[encoded data removed]",
      "text/plain": [
       "<Figure size 432x288 with 1 Axes>"
      ]
     },
     "metadata": {},
     "output_type": "display_data"
    }
   ],
   "source": [
    "#changing to misclassification error\n",
    "mse = [1 - x for x in cv_scores]\n",
    "\n",
    "# determining best k\n",
    "optimal_k = neighbors[mse.index(min(mse))]\n",
    "print(\"The optimal number of neighbors is {}\".format(optimal_k))\n",
    "\n",
    "# plot misclassification error vs k\n",
    "plt.plot(neighbors, mse)\n",
    "plt.xlabel(\"Number of Neighbors K\")\n",
    "plt.ylabel(\"Misclassification Error\")\n",
    "plt.show()"
   ]
  },
  {
   "cell_type": "code",
   "execution_count": 58,
   "metadata": {},
   "outputs": [
    {
     "name": "stdout",
     "output_type": "stream",
     "text": [
      "accuracy: 0.9629008202833707\n",
      "              precision    recall  f1-score   support\n",
      "\n",
      "           0       0.98      0.98      0.98      5137\n",
      "           1       0.57      0.50      0.53       227\n",
      "\n",
      "    accuracy                           0.96      5364\n",
      "   macro avg       0.77      0.74      0.76      5364\n",
      "weighted avg       0.96      0.96      0.96      5364\n",
      "\n"
     ]
    }
   ],
   "source": [
    "from sklearn.neighbors import KNeighborsClassifier\n",
    "from sklearn.metrics import accuracy_score\n",
    "\n",
    "# instantiate learning model (k = 3)\n",
    "knn = KNeighborsClassifier(n_neighbors=23)\n",
    "\n",
    "# fitting the model\n",
    "knn.fit(x_train, y_train)\n",
    "\n",
    "# predict the response\n",
    "pred = knn.predict(x_test)\n",
    "\n",
    "# evaluate accuracy\n",
    "print(\"accuracy: {}\".format(accuracy_score(y_test, pred)))\n",
    "print (classification_report(y_test, pred))"
   ]
  },
  {
   "cell_type": "markdown",
   "metadata": {},
   "source": [
    "There is an increase in the accurancy score after tuning the KNN. From 91%, the accurancy score is increased to 96% after the tuning. Hence, it is always vital to find the optimal number of neighbors to get high accurancy score. "
   ]
  },
  {
   "cell_type": "markdown",
   "metadata": {},
   "source": [
    "### Decision Tree  <a name=\"e44\"></a>"
   ]
  },
  {
   "cell_type": "markdown",
   "metadata": {},
   "source": [
    "RepeatedStratifiedKFold with 5-fold cross validation is used. Since the target labels are not equal, stratification is employed since it ensures that the proportion of two labels will be the same as the proportion in the entire dataset during each cross validation."
   ]
  },
  {
   "cell_type": "code",
   "execution_count": 59,
   "metadata": {},
   "outputs": [
    {
     "name": "stdout",
     "output_type": "stream",
     "text": [
      "Accuracy: 0.9828486204325131\n"
     ]
    }
   ],
   "source": [
    "from sklearn.tree import DecisionTreeClassifier\n",
    "\n",
    "# Create Decision Tree classifer object\n",
    "gs_DT = DecisionTreeClassifier()\n",
    "\n",
    "# Train Decision Tree Classifer\n",
    "gs_DT = gs_DT.fit(x_train,y_train)\n",
    "\n",
    "#Predict the response for test dataset\n",
    "y_pred = gs_DT.predict(x_test)\n",
    "\n",
    "# Model Accuracy, how often is the classifier correct?\n",
    "print(\"Accuracy:\",metrics.accuracy_score(y_test, y_pred))"
   ]
  },
  {
   "cell_type": "code",
   "execution_count": 60,
   "metadata": {},
   "outputs": [
    {
     "name": "stdout",
     "output_type": "stream",
     "text": [
      "[[5091   46]\n",
      " [  46  181]]\n",
      "              precision    recall  f1-score   support\n",
      "\n",
      "           0       0.99      0.99      0.99      5137\n",
      "           1       0.80      0.80      0.80       227\n",
      "\n",
      "    accuracy                           0.98      5364\n",
      "   macro avg       0.89      0.89      0.89      5364\n",
      "weighted avg       0.98      0.98      0.98      5364\n",
      "\n"
     ]
    }
   ],
   "source": [
    "from sklearn.metrics import classification_report, confusion_matrix\n",
    "print(confusion_matrix(y_test, y_pred))\n",
    "print (classification_report(y_test, y_pred))"
   ]
  },
  {
   "cell_type": "markdown",
   "metadata": {},
   "source": [
    "#### Decision tree tuning <a name=\"e444\"></a>"
   ]
  },
  {
   "cell_type": "code",
   "execution_count": 61,
   "metadata": {},
   "outputs": [],
   "source": [
    "#pip install altair vega_datasets"
   ]
  },
  {
   "cell_type": "code",
   "execution_count": 62,
   "metadata": {},
   "outputs": [],
   "source": [
    "from sklearn.model_selection import StratifiedKFold, GridSearchCV\n",
    "\n",
    "cv_method = StratifiedKFold(n_splits=5, random_state=999)"
   ]
  },
  {
   "cell_type": "code",
   "execution_count": 63,
   "metadata": {},
   "outputs": [
    {
     "name": "stdout",
     "output_type": "stream",
     "text": [
      "Fitting 5 folds for each of 16 candidates, totalling 80 fits\n"
     ]
    },
    {
     "name": "stderr",
     "output_type": "stream",
     "text": [
      "[Parallel(n_jobs=1)]: Using backend SequentialBackend with 1 concurrent workers.\n",
      "[Parallel(n_jobs=1)]: Done  80 out of  80 | elapsed:  3.5min finished\n"
     ]
    },
    {
     "name": "stdout",
     "output_type": "stream",
     "text": [
      "Best parameter {'criterion': 'entropy', 'max_depth': 20, 'min_samples_split': 2}\n",
      "Best score 0.9750723093948604\n"
     ]
    }
   ],
   "source": [
    "from sklearn.tree import DecisionTreeClassifier\n",
    "\n",
    "df_classifier = DecisionTreeClassifier(random_state=999)\n",
    "\n",
    "params_DT = {'criterion': ['gini', 'entropy'],\n",
    "             'max_depth': [5,10,15,20],\n",
    "             'min_samples_split': [2,5]}\n",
    "\n",
    "gs_DT2 = GridSearchCV(df_classifier, \n",
    "                     params_DT, \n",
    "                     cv=cv_method,\n",
    "                     verbose=1, \n",
    "                     scoring='accuracy')\n",
    "\n",
    "gs_DT2.fit(x_train, y_train);\n",
    "print(\"Best parameter\",gs_DT2.best_params_)\n",
    "print(\"Best score\",gs_DT2.best_score_)"
   ]
  },
  {
   "cell_type": "code",
   "execution_count": 64,
   "metadata": {},
   "outputs": [
    {
     "name": "stdout",
     "output_type": "stream",
     "text": [
      "Accuracy: 0.9817300521998509\n"
     ]
    }
   ],
   "source": [
    "# Create Decision Tree classifer object\n",
    "gs_DT = DecisionTreeClassifier(criterion=\"entropy\", max_depth=20)\n",
    "\n",
    "# Train Decision Tree Classifer\n",
    "gs_DT = gs_DT.fit(x_train,y_train)\n",
    "\n",
    "#Predict the response for test dataset\n",
    "y_pred = gs_DT.predict(x_test)\n",
    "\n",
    "# Model Accuracy, how often is the classifier correct?\n",
    "print(\"Accuracy:\",metrics.accuracy_score(y_test, y_pred))"
   ]
  },
  {
   "cell_type": "code",
   "execution_count": 65,
   "metadata": {},
   "outputs": [
    {
     "name": "stdout",
     "output_type": "stream",
     "text": [
      "[[5109   28]\n",
      " [  70  157]]\n",
      "              precision    recall  f1-score   support\n",
      "\n",
      "           0       0.99      0.99      0.99      5137\n",
      "           1       0.85      0.69      0.76       227\n",
      "\n",
      "    accuracy                           0.98      5364\n",
      "   macro avg       0.92      0.84      0.88      5364\n",
      "weighted avg       0.98      0.98      0.98      5364\n",
      "\n"
     ]
    }
   ],
   "source": [
    "from sklearn.metrics import classification_report, confusion_matrix\n",
    "print(confusion_matrix(y_test, y_pred))\n",
    "print (classification_report(y_test, y_pred))"
   ]
  },
  {
   "cell_type": "markdown",
   "metadata": {},
   "source": [
    "It is shows that, there is no difference in the accurancy score before and after the tuning. Probably, 98% is the best accurancy score of the model and there is nothing much can be improvised to enhance the model's performance."
   ]
  },
  {
   "cell_type": "markdown",
   "metadata": {},
   "source": [
    "## Performance comparison  <a name=\"e5\"></a>"
   ]
  },
  {
   "cell_type": "code",
   "execution_count": 66,
   "metadata": {},
   "outputs": [
    {
     "data": {
      "text/plain": [
       "0.8605777858903165"
      ]
     },
     "execution_count": 66,
     "metadata": {},
     "output_type": "execute_result"
    }
   ],
   "source": [
    "#scoring for KNN\n",
    "from sklearn.model_selection import cross_val_score\n",
    "from sklearn.model_selection import StratifiedKFold\n",
    "\n",
    "cv_method_ttest = StratifiedKFold(n_splits=10, random_state=111)\n",
    "scores_knn = cross_val_score(knn, x_test, y_test, cv=cv_method_ttest,  \n",
    "                             n_jobs=-2,scoring='roc_auc')\n",
    "scores_knn.mean()"
   ]
  },
  {
   "cell_type": "code",
   "execution_count": 67,
   "metadata": {},
   "outputs": [
    {
     "data": {
      "text/plain": [
       "0.8084842618547621"
      ]
     },
     "execution_count": 67,
     "metadata": {},
     "output_type": "execute_result"
    }
   ],
   "source": [
    "##scoring for Decision Tree\n",
    "cv_results_DT = cross_val_score(estimator=gs_DT2.best_estimator_,\n",
    "                                X=x_test,\n",
    "                                y=y_test, \n",
    "                                cv=cv_method_ttest, \n",
    "                                n_jobs=-2,\n",
    "                                scoring='roc_auc')\n",
    "cv_results_DT.mean()"
   ]
  },
  {
   "cell_type": "code",
   "execution_count": 68,
   "metadata": {},
   "outputs": [
    {
     "data": {
      "text/plain": [
       "0.9641053997609349"
      ]
     },
     "execution_count": 68,
     "metadata": {},
     "output_type": "execute_result"
    }
   ],
   "source": [
    "##scoring for Random Forest\n",
    "cv_results_RF = cross_val_score(estimator=grid_rf.best_estimator_,\n",
    "                                X=x_test,\n",
    "                                y=y_test, \n",
    "                                cv=cv_method_ttest, \n",
    "                                n_jobs=-2,\n",
    "                                scoring='roc_auc')\n",
    "cv_results_RF.mean()"
   ]
  },
  {
   "cell_type": "code",
   "execution_count": 69,
   "metadata": {},
   "outputs": [
    {
     "data": {
      "text/plain": [
       "0.9576085000338622"
      ]
     },
     "execution_count": 69,
     "metadata": {},
     "output_type": "execute_result"
    }
   ],
   "source": [
    "##scoring for Logistic Regression\n",
    "cv_results_LR = cross_val_score(estimator=grid_tfidf.best_estimator_,\n",
    "                                X=x_test,\n",
    "                                y=y_test, \n",
    "                                cv=cv_method_ttest, \n",
    "                                n_jobs=-2,\n",
    "                                scoring='roc_auc')\n",
    "cv_results_LR.mean()"
   ]
  },
  {
   "cell_type": "code",
   "execution_count": 70,
   "metadata": {},
   "outputs": [
    {
     "name": "stdout",
     "output_type": "stream",
     "text": [
      "Ttest_relResult(statistic=2.096301359296676, pvalue=0.0655102676199762)\n",
      "Ttest_relResult(statistic=-2.096301359296676, pvalue=0.0655102676199762)\n",
      "Ttest_relResult(statistic=-7.62857313330072, pvalue=3.2295158986104245e-05)\n",
      "Ttest_relResult(statistic=-6.747931747268597, pvalue=8.384513379028698e-05)\n",
      "Ttest_relResult(statistic=7.214108447046896, pvalue=5.006271674174072e-05)\n",
      "Ttest_relResult(statistic=1.0829470621019526, pvalue=0.30699102697695524)\n",
      "Ttest_relResult(statistic=-6.694292960484133, pvalue=8.911440226996087e-05)\n"
     ]
    }
   ],
   "source": [
    "from scipy import stats\n",
    "\n",
    "print(stats.ttest_rel(scores_knn, cv_results_DT))\n",
    "print(stats.ttest_rel(cv_results_DT, scores_knn))\n",
    "print(stats.ttest_rel(scores_knn, cv_results_RF))\n",
    "print(stats.ttest_rel(scores_knn, cv_results_LR))\n",
    "\n",
    "print(stats.ttest_rel(cv_results_RF, cv_results_DT))\n",
    "print(stats.ttest_rel(cv_results_RF, cv_results_LR))\n",
    "\n",
    "print(stats.ttest_rel(cv_results_DT, cv_results_LR))"
   ]
  },
  {
   "cell_type": "markdown",
   "metadata": {},
   "source": [
    "A p value lesser than 0.05 means there is a significant difference.Looking at the outputs, we can say that at a 95% significance level, Random Forest is statistically the best model in terms of AUC in contrast to the test data."
   ]
  },
  {
   "cell_type": "markdown",
   "metadata": {},
   "source": [
    "The following metrics are considered to evaluate models based on the test set:\n",
    "- Accuracy\n",
    "- Precision\n",
    "- Recall\n",
    "- F1 Score \n",
    "- Confusion Matrix"
   ]
  },
  {
   "cell_type": "code",
   "execution_count": 71,
   "metadata": {},
   "outputs": [
    {
     "name": "stdout",
     "output_type": "stream",
     "text": [
      "\n",
      "Classification report for Logistic Regression\n",
      "              precision    recall  f1-score   support\n",
      "\n",
      "           0       0.99      1.00      0.99      5137\n",
      "           1       0.91      0.73      0.81       227\n",
      "\n",
      "    accuracy                           0.99      5364\n",
      "   macro avg       0.95      0.86      0.90      5364\n",
      "weighted avg       0.98      0.99      0.98      5364\n",
      "\n",
      "\n",
      "Classification report for K-Nearest Neighbor\n",
      "              precision    recall  f1-score   support\n",
      "\n",
      "           0       0.98      0.98      0.98      5137\n",
      "           1       0.57      0.50      0.53       227\n",
      "\n",
      "    accuracy                           0.96      5364\n",
      "   macro avg       0.77      0.74      0.76      5364\n",
      "weighted avg       0.96      0.96      0.96      5364\n",
      "\n",
      "\n",
      "Classification report for RandomForest\n",
      "              precision    recall  f1-score   support\n",
      "\n",
      "           0       0.99      1.00      0.99      5137\n",
      "           1       0.97      0.67      0.79       227\n",
      "\n",
      "    accuracy                           0.99      5364\n",
      "   macro avg       0.98      0.83      0.89      5364\n",
      "weighted avg       0.99      0.99      0.98      5364\n",
      "\n",
      "\n",
      "Classification report for Decision tree\n",
      "              precision    recall  f1-score   support\n",
      "\n",
      "           0       0.99      0.99      0.99      5137\n",
      "           1       0.85      0.69      0.76       227\n",
      "\n",
      "    accuracy                           0.98      5364\n",
      "   macro avg       0.92      0.84      0.88      5364\n",
      "weighted avg       0.98      0.98      0.98      5364\n",
      "\n"
     ]
    }
   ],
   "source": [
    "print(\"\\nClassification report for Logistic Regression\")\n",
    "print (classification_report(y_test, log_reg_pred))\n",
    "print(\"\\nClassification report for K-Nearest Neighbor\") \n",
    "print (classification_report(y_test, pred))\n",
    "print(\"\\nClassification report for RandomForest\") \n",
    "print (classification_report(y_test, rf_pred))\n",
    "print(\"\\nClassification report for Decision tree\") \n",
    "print(classification_report(y_test,y_pred))"
   ]
  },
  {
   "cell_type": "code",
   "execution_count": 72,
   "metadata": {},
   "outputs": [
    {
     "name": "stdout",
     "output_type": "stream",
     "text": [
      "\n",
      "Classification report for Logistic Regression\n",
      "[[5120   17]\n",
      " [  61  166]]\n",
      "\n",
      "Confusion matrix for K-Nearest Neighbor\n",
      "[[5052   85]\n",
      " [ 114  113]]\n",
      "\n",
      "Classification report for RandomForest\n",
      "[[5133    4]\n",
      " [  75  152]]\n",
      "\n",
      "Confusion matrix for Decision Tree\n",
      "[[5109   28]\n",
      " [  70  157]]\n"
     ]
    }
   ],
   "source": [
    "from sklearn import metrics\n",
    "print(\"\\nClassification report for Logistic Regression\")\n",
    "print (metrics.confusion_matrix(y_test, log_reg_pred))\n",
    "print(\"\\nConfusion matrix for K-Nearest Neighbor\") \n",
    "print(metrics.confusion_matrix(y_test, pred))\n",
    "print(\"\\nClassification report for RandomForest\") \n",
    "print (metrics.confusion_matrix(y_test, rf_pred))\n",
    "print(\"\\nConfusion matrix for Decision Tree\") \n",
    "print(metrics.confusion_matrix(y_test, y_pred))"
   ]
  },
  {
   "cell_type": "code",
   "execution_count": 73,
   "metadata": {},
   "outputs": [
    {
     "name": "stdout",
     "output_type": "stream",
     "text": [
      "precision of logistic regression\n",
      "0.8900523560209425\n",
      "Recall of logistic regression\n",
      "0.748898678414097\n",
      "F1-Score of logistic regression\n",
      "0.813397129186603\n"
     ]
    }
   ],
   "source": [
    "#LR\n",
    "FP_lr=21\n",
    "TP_lr=170\n",
    "FN_lr=57\n",
    "TN_lr=5116\n",
    "\n",
    "#Precision gives information about how we can assure that an instance predicted to have the positive target are actually true.\n",
    "Precision=(TP_lr)/(TP_lr+FP_lr)\n",
    "#Recall provides assurance that all instances with a positive target is found by the model\n",
    "Recall=(TP_lr)/(TP_lr+FN_lr)\n",
    "Recall \n",
    "#F1-score provides the test accuracy\n",
    "F1_Score=2*((Precision*Recall)/(Precision+Recall))\n",
    "F1_Score\n",
    "\n",
    "print(\"precision of logistic regression\")\n",
    "print(Precision)\n",
    "print(\"Recall of logistic regression\")\n",
    "print(Recall)\n",
    "print(\"F1-Score of logistic regression\")\n",
    "print(F1_Score)\n"
   ]
  },
  {
   "cell_type": "code",
   "execution_count": 74,
   "metadata": {},
   "outputs": [
    {
     "name": "stdout",
     "output_type": "stream",
     "text": [
      "precision of KNN\n",
      "0.5596330275229358\n",
      "Recall of KNN\n",
      "0.5374449339207048\n",
      "F1-Score of KNN\n",
      "0.548314606741573\n"
     ]
    }
   ],
   "source": [
    "#knn\n",
    "FP_knn=96\n",
    "TP_knn=122\n",
    "FN_knn=105\n",
    "TN_knn=5041\n",
    "\n",
    "#Precision gives information about how we can assure that an instance predicted to have the positive target are actually true.\n",
    "Precision=(TP_knn)/(TP_knn+FP_knn)\n",
    "#Recall provides assurance that all instances with a positive target is found by the model\n",
    "Recall=(TP_knn)/(TP_knn+FN_knn)\n",
    "Recall \n",
    "#F1-score provides the test accuracy\n",
    "F1_Score=2*((Precision*Recall)/(Precision+Recall))\n",
    "F1_Score\n",
    "\n",
    "print(\"precision of KNN\")\n",
    "print(Precision)\n",
    "print(\"Recall of KNN\")\n",
    "print(Recall)\n",
    "print(\"F1-Score of KNN\")\n",
    "print(F1_Score)"
   ]
  },
  {
   "cell_type": "code",
   "execution_count": 75,
   "metadata": {},
   "outputs": [
    {
     "name": "stdout",
     "output_type": "stream",
     "text": [
      "precision of Random Forest\n",
      "0.9681528662420382\n",
      "Recall of Random Forest\n",
      "0.6696035242290749\n",
      "F1-Score of Random Forest\n",
      "0.7916666666666666\n"
     ]
    }
   ],
   "source": [
    "#RF\n",
    "FP_RF=5\n",
    "TP_RF=152\n",
    "FN_RF=75\n",
    "TN_RF=5132\n",
    "\n",
    "#Precision gives information about how we can assure that an instance predicted to have the positive target are actually true.\n",
    "Precision=(TP_RF)/(TP_RF+FP_RF)\n",
    "#Recall provides assurance that all instances with a positive target is found by the model\n",
    "Recall=(TP_RF)/(TP_RF+FN_RF)\n",
    "Recall \n",
    "#F1-score provides the test accuracy\n",
    "F1_Score=2*((Precision*Recall)/(Precision+Recall))\n",
    "F1_Score\n",
    "\n",
    "print(\"precision of Random Forest\")\n",
    "print(Precision)\n",
    "print(\"Recall of Random Forest\")\n",
    "print(Recall)\n",
    "print(\"F1-Score of Random Forest\")\n",
    "print(F1_Score)"
   ]
  },
  {
   "cell_type": "code",
   "execution_count": 76,
   "metadata": {},
   "outputs": [
    {
     "name": "stdout",
     "output_type": "stream",
     "text": [
      "precision of Decision Tree\n",
      "0.8633879781420765\n",
      "Recall of Decision Tree\n",
      "0.6960352422907489\n",
      "F1-Score of Decision Tree\n",
      "0.7707317073170732\n"
     ]
    }
   ],
   "source": [
    "#DT\n",
    "FP=25\n",
    "TP=158\n",
    "FN=69\n",
    "TN=5112\n",
    "\n",
    "#Precision gives information about how we can assure that an instance predicted to have the positive target are actually true.\n",
    "Precision=(TP)/(TP+FP)\n",
    "#Recall provides assurance that all instances with a positive target is found by the model\n",
    "Recall=(TP)/(TP+FN)\n",
    "Recall \n",
    "#F1-score provides the test accuracy\n",
    "F1_Score=2*((Precision*Recall)/(Precision+Recall))\n",
    "F1_Score\n",
    "\n",
    "print(\"precision of Decision Tree\")\n",
    "print(Precision)\n",
    "print(\"Recall of Decision Tree\")\n",
    "print(Recall)\n",
    "print(\"F1-Score of Decision Tree\")\n",
    "print(F1_Score)"
   ]
  },
  {
   "cell_type": "markdown",
   "metadata": {},
   "source": [
    "Since in this project we are detecting the fraudness of the job posts using the word and description, recall is selected as the metric of performance which is the true positive rate that means Recall provides assurance that all instances with a positive target is found by the model. Hence, the logistic regression is the best performer as it has highest recall score.  The confusion matrices are in accordance with the classification reports. This is as opposed to our finding that Random Forest is measurably the best performer with regards to the AUC metric."
   ]
  },
  {
   "cell_type": "markdown",
   "metadata": {},
   "source": [
    "## Limitation and solution: <a name=\"f\"></a>"
   ]
  },
  {
   "cell_type": "markdown",
   "metadata": {},
   "source": [
    "The modelling strategy has some limitations: <br>\n",
    "\n",
    "Firstly, we randomly chose the features based on the number of words they have. In future, random selection can be avoided and feature selection techniques can be used in selecting the best features. \n",
    "\n",
    "In KNN, there is a frequent occurring class in the traing set, it will be the majority that will dominate (larger number is more common in a dataset).This can be improvised by skewing the distribution of class which can be corrected by weighed voting.By using techniques like PCA before applying KNN and make the metric of the  distance more understandable.Moreover, hamming distance can be used for text classification.\n",
    "\n",
    "Another limitation is in the decision tree.The tress can be very unstable due to the small variation in the data which can result in a complete different tree. In classification case, if some dominate classes are present , it creates a biased trees.Hence, increasing the depth is crucial to get optimal result. "
   ]
  },
  {
   "cell_type": "markdown",
   "metadata": {},
   "source": [
    "# Summary & Conclusions <a name=\"g\"></a>"
   ]
  },
  {
   "cell_type": "markdown",
   "metadata": {},
   "source": [
    "Random Forest model with the 5 of the best features provided the highest cross-validated AUC score on the training set. Moreover, the Random Forest model again outperformed well  with other models such as KNN and Decision Tree in terms of AUC. Nevertheless, Logistic Regression model has highest recall score on the test data. We can cleary see that, the models are not sensitive to the number of feature selected as they are working well with these features. However, limited features are selected to avoid overfitting and it is easy to train and understand the models. <br>\n",
    "The features are selected based on the number of words they contained. The 5 features that selected contain more words. Thus, they are selected in building the model as our objective is to use relevent features to minimize dimensionality and use the words and description in the job advertisement in order build a classification model which will able to detect fraud job posts effectively with high accurancy. Overall, the goal of building a reliable classification model to predict the fraudulent of the job advertisments using words and description is achieved.  "
   ]
  },
  {
   "cell_type": "code",
   "execution_count": null,
   "metadata": {},
   "outputs": [],
   "source": []
  }
 ],
 "metadata": {
  "kernelspec": {
   "display_name": "Python 3",
   "language": "python",
   "name": "python3"
  },
  "language_info": {
   "codemirror_mode": {
    "name": "ipython",
    "version": 3
   },
   "file_extension": ".py",
   "mimetype": "text/x-python",
   "name": "python",
   "nbconvert_exporter": "python",
   "pygments_lexer": "ipython3",
   "version": "3.7.4"
  }
 },
 "nbformat": 4,
 "nbformat_minor": 2
}
